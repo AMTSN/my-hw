{
 "cells": [
  {
   "cell_type": "code",
   "execution_count": 1,
   "metadata": {},
   "outputs": [
    {
     "name": "stderr",
     "output_type": "stream",
     "text": [
      "/Users/albinamorozova/anaconda2/lib/python2.7/site-packages/statsmodels/compat/pandas.py:56: FutureWarning: The pandas.core.datetools module is deprecated and will be removed in a future version. Please use the pandas.tseries module instead.\n",
      "  from pandas.core import datetools\n"
     ]
    }
   ],
   "source": [
    "%matplotlib inline\n",
    "import pandas as pd\n",
    "import numpy as np\n",
    "from scipy import stats\n",
    "import statsmodels.api as sm\n",
    "from sklearn import linear_model\n",
    "from sklearn.cross_validation import KFold\n",
    "from sklearn.cross_validation import train_test_split\n",
    "from sklearn.linear_model import LogisticRegression"
   ]
  },
  {
   "cell_type": "code",
   "execution_count": 2,
   "metadata": {},
   "outputs": [
    {
     "data": {
      "text/html": [
       "<div>\n",
       "<style>\n",
       "    .dataframe thead tr:only-child th {\n",
       "        text-align: right;\n",
       "    }\n",
       "\n",
       "    .dataframe thead th {\n",
       "        text-align: left;\n",
       "    }\n",
       "\n",
       "    .dataframe tbody tr th {\n",
       "        vertical-align: top;\n",
       "    }\n",
       "</style>\n",
       "<table border=\"1\" class=\"dataframe\">\n",
       "  <thead>\n",
       "    <tr style=\"text-align: right;\">\n",
       "      <th></th>\n",
       "      <th>Date</th>\n",
       "      <th>RecordImputedFlag</th>\n",
       "      <th>Mercury_Retrograde_Degree_Colapsed</th>\n",
       "      <th>Mercury_Retrograde_Degree_Granular</th>\n",
       "      <th>Mercury_Retrograde_Degree_Description</th>\n",
       "      <th>FedReserveConference</th>\n",
       "      <th>FedReserveConference_Description</th>\n",
       "      <th>SP500_Open</th>\n",
       "      <th>SP500_High</th>\n",
       "      <th>SP500_Low</th>\n",
       "      <th>...</th>\n",
       "      <th>VIX_Open</th>\n",
       "      <th>VIX_High</th>\n",
       "      <th>VIX_Low</th>\n",
       "      <th>VIX_Close</th>\n",
       "      <th>VIX_Adj Close</th>\n",
       "      <th>VIX_HighLow_Delta</th>\n",
       "      <th>VIX_HighLow_Delta_Percent</th>\n",
       "      <th>VIX_OpenClose_Delta</th>\n",
       "      <th>VIX_OpenClose_Delta_Percent</th>\n",
       "      <th>VIX_DeltaPErcent_Combined</th>\n",
       "    </tr>\n",
       "  </thead>\n",
       "  <tbody>\n",
       "    <tr>\n",
       "      <th>0</th>\n",
       "      <td>5/5/2011</td>\n",
       "      <td>N</td>\n",
       "      <td>0</td>\n",
       "      <td>0</td>\n",
       "      <td>No Retrograde</td>\n",
       "      <td>0</td>\n",
       "      <td>No Conference</td>\n",
       "      <td>1344.160034</td>\n",
       "      <td>1348.000000</td>\n",
       "      <td>1329.170044</td>\n",
       "      <td>...</td>\n",
       "      <td>17.68</td>\n",
       "      <td>19.110001</td>\n",
       "      <td>16.740000</td>\n",
       "      <td>18.200001</td>\n",
       "      <td>18.200001</td>\n",
       "      <td>2.370001</td>\n",
       "      <td>14.157712</td>\n",
       "      <td>0.600000</td>\n",
       "      <td>3.512881</td>\n",
       "      <td>17.670593</td>\n",
       "    </tr>\n",
       "    <tr>\n",
       "      <th>1</th>\n",
       "      <td>5/6/2011</td>\n",
       "      <td>N</td>\n",
       "      <td>0</td>\n",
       "      <td>0</td>\n",
       "      <td>No Retrograde</td>\n",
       "      <td>0</td>\n",
       "      <td>No Conference</td>\n",
       "      <td>1340.239990</td>\n",
       "      <td>1354.359985</td>\n",
       "      <td>1335.579956</td>\n",
       "      <td>...</td>\n",
       "      <td>17.17</td>\n",
       "      <td>19.290001</td>\n",
       "      <td>16.120001</td>\n",
       "      <td>18.400000</td>\n",
       "      <td>18.400000</td>\n",
       "      <td>3.170000</td>\n",
       "      <td>19.665011</td>\n",
       "      <td>-1.030001</td>\n",
       "      <td>-5.659346</td>\n",
       "      <td>25.324357</td>\n",
       "    </tr>\n",
       "    <tr>\n",
       "      <th>2</th>\n",
       "      <td>5/7/2011</td>\n",
       "      <td>Y</td>\n",
       "      <td>0</td>\n",
       "      <td>0</td>\n",
       "      <td>No Retrograde</td>\n",
       "      <td>0</td>\n",
       "      <td>No Conference</td>\n",
       "      <td>1340.219971</td>\n",
       "      <td>1351.899963</td>\n",
       "      <td>1337.109986</td>\n",
       "      <td>...</td>\n",
       "      <td>17.88</td>\n",
       "      <td>18.940001</td>\n",
       "      <td>16.580001</td>\n",
       "      <td>17.780000</td>\n",
       "      <td>17.780000</td>\n",
       "      <td>2.359999</td>\n",
       "      <td>14.380624</td>\n",
       "      <td>-0.420000</td>\n",
       "      <td>-2.313369</td>\n",
       "      <td>17.726602</td>\n",
       "    </tr>\n",
       "    <tr>\n",
       "      <th>3</th>\n",
       "      <td>5/8/2011</td>\n",
       "      <td>Y</td>\n",
       "      <td>0</td>\n",
       "      <td>0</td>\n",
       "      <td>No Retrograde</td>\n",
       "      <td>0</td>\n",
       "      <td>No Conference</td>\n",
       "      <td>1340.219971</td>\n",
       "      <td>1351.899963</td>\n",
       "      <td>1337.109986</td>\n",
       "      <td>...</td>\n",
       "      <td>17.88</td>\n",
       "      <td>18.940001</td>\n",
       "      <td>16.580001</td>\n",
       "      <td>17.780000</td>\n",
       "      <td>17.780000</td>\n",
       "      <td>2.359999</td>\n",
       "      <td>14.380624</td>\n",
       "      <td>-0.420000</td>\n",
       "      <td>-2.313369</td>\n",
       "      <td>17.726602</td>\n",
       "    </tr>\n",
       "    <tr>\n",
       "      <th>4</th>\n",
       "      <td>5/9/2011</td>\n",
       "      <td>N</td>\n",
       "      <td>0</td>\n",
       "      <td>0</td>\n",
       "      <td>No Retrograde</td>\n",
       "      <td>0</td>\n",
       "      <td>No Conference</td>\n",
       "      <td>1340.199951</td>\n",
       "      <td>1349.439941</td>\n",
       "      <td>1338.640015</td>\n",
       "      <td>...</td>\n",
       "      <td>18.59</td>\n",
       "      <td>18.590000</td>\n",
       "      <td>17.040001</td>\n",
       "      <td>17.160000</td>\n",
       "      <td>17.160000</td>\n",
       "      <td>1.549999</td>\n",
       "      <td>9.096238</td>\n",
       "      <td>0.190000</td>\n",
       "      <td>1.032609</td>\n",
       "      <td>10.128846</td>\n",
       "    </tr>\n",
       "  </tbody>\n",
       "</table>\n",
       "<p>5 rows × 28 columns</p>\n",
       "</div>"
      ],
      "text/plain": [
       "       Date RecordImputedFlag  Mercury_Retrograde_Degree_Colapsed  \\\n",
       "0  5/5/2011                 N                                   0   \n",
       "1  5/6/2011                 N                                   0   \n",
       "2  5/7/2011                 Y                                   0   \n",
       "3  5/8/2011                 Y                                   0   \n",
       "4  5/9/2011                 N                                   0   \n",
       "\n",
       "   Mercury_Retrograde_Degree_Granular Mercury_Retrograde_Degree_Description  \\\n",
       "0                                   0                         No Retrograde   \n",
       "1                                   0                         No Retrograde   \n",
       "2                                   0                         No Retrograde   \n",
       "3                                   0                         No Retrograde   \n",
       "4                                   0                         No Retrograde   \n",
       "\n",
       "   FedReserveConference FedReserveConference_Description   SP500_Open  \\\n",
       "0                     0                    No Conference  1344.160034   \n",
       "1                     0                    No Conference  1340.239990   \n",
       "2                     0                    No Conference  1340.219971   \n",
       "3                     0                    No Conference  1340.219971   \n",
       "4                     0                    No Conference  1340.199951   \n",
       "\n",
       "    SP500_High    SP500_Low            ...              VIX_Open   VIX_High  \\\n",
       "0  1348.000000  1329.170044            ...                 17.68  19.110001   \n",
       "1  1354.359985  1335.579956            ...                 17.17  19.290001   \n",
       "2  1351.899963  1337.109986            ...                 17.88  18.940001   \n",
       "3  1351.899963  1337.109986            ...                 17.88  18.940001   \n",
       "4  1349.439941  1338.640015            ...                 18.59  18.590000   \n",
       "\n",
       "     VIX_Low  VIX_Close  VIX_Adj Close  VIX_HighLow_Delta  \\\n",
       "0  16.740000  18.200001      18.200001           2.370001   \n",
       "1  16.120001  18.400000      18.400000           3.170000   \n",
       "2  16.580001  17.780000      17.780000           2.359999   \n",
       "3  16.580001  17.780000      17.780000           2.359999   \n",
       "4  17.040001  17.160000      17.160000           1.549999   \n",
       "\n",
       "   VIX_HighLow_Delta_Percent  VIX_OpenClose_Delta  \\\n",
       "0                  14.157712             0.600000   \n",
       "1                  19.665011            -1.030001   \n",
       "2                  14.380624            -0.420000   \n",
       "3                  14.380624            -0.420000   \n",
       "4                   9.096238             0.190000   \n",
       "\n",
       "   VIX_OpenClose_Delta_Percent  VIX_DeltaPErcent_Combined  \n",
       "0                     3.512881                  17.670593  \n",
       "1                    -5.659346                  25.324357  \n",
       "2                    -2.313369                  17.726602  \n",
       "3                    -2.313369                  17.726602  \n",
       "4                     1.032609                  10.128846  \n",
       "\n",
       "[5 rows x 28 columns]"
      ]
     },
     "execution_count": 2,
     "metadata": {},
     "output_type": "execute_result"
    }
   ],
   "source": [
    "#df_raw = pd.read_csv(\"/Users/albinamorozova/Downloads/sp_500_Aggregated.csv\")\n",
    "df_raw = pd.read_csv(\"sp_500_Aggregated.csv\")\n",
    "df_raw.head()"
   ]
  },
  {
   "cell_type": "markdown",
   "metadata": {},
   "source": [
    "Trying linear regression models first. Not adding any intercepts because X is categorical."
   ]
  },
  {
   "cell_type": "code",
   "execution_count": 3,
   "metadata": {},
   "outputs": [
    {
     "name": "stdout",
     "output_type": "stream",
     "text": [
      "12.5231762324 [ 0.21322318]\n"
     ]
    }
   ],
   "source": [
    "X = df_raw[[\"ç\"]]\n",
    "y = df_raw[\"VIX_DeltaPErcent_Combined\"]\n",
    "\n",
    "# Fit the linear model\n",
    "model = linear_model.LinearRegression()\n",
    "results = model.fit(X, y)\n",
    "\n",
    "# Print the coefficients\n",
    "print results.intercept_, results.coef_"
   ]
  },
  {
   "cell_type": "code",
   "execution_count": 5,
   "metadata": {},
   "outputs": [
    {
     "name": "stdout",
     "output_type": "stream",
     "text": [
      "                                OLS Regression Results                               \n",
      "=====================================================================================\n",
      "Dep. Variable:     VIX_DeltaPErcent_Combined   R-squared:                       0.288\n",
      "Model:                                   OLS   Adj. R-squared:                  0.288\n",
      "Method:                        Least Squares   F-statistic:                     990.7\n",
      "Date:                       Wed, 31 Jan 2018   Prob (F-statistic):          6.35e-183\n",
      "Time:                               22:36:40   Log-Likelihood:                -9695.2\n",
      "No. Observations:                       2452   AIC:                         1.939e+04\n",
      "Df Residuals:                           2451   BIC:                         1.940e+04\n",
      "Df Model:                                  1                                         \n",
      "Covariance Type:                   nonrobust                                         \n",
      "======================================================================================================\n",
      "                                         coef    std err          t      P>|t|      [0.025      0.975]\n",
      "------------------------------------------------------------------------------------------------------\n",
      "Mercury_Retrograde_Degree_Granular     2.2689      0.072     31.475      0.000       2.128       2.410\n",
      "==============================================================================\n",
      "Omnibus:                      668.751   Durbin-Watson:                   0.269\n",
      "Prob(Omnibus):                  0.000   Jarque-Bera (JB):             5785.968\n",
      "Skew:                           1.038   Prob(JB):                         0.00\n",
      "Kurtosis:                      10.233   Cond. No.                         1.00\n",
      "==============================================================================\n",
      "\n",
      "Warnings:\n",
      "[1] Standard Errors assume that the covariance matrix of the errors is correctly specified.\n"
     ]
    }
   ],
   "source": [
    "model = sm.OLS(y, X)\n",
    "results = model.fit()\n",
    "print(results.summary())"
   ]
  },
  {
   "cell_type": "markdown",
   "metadata": {},
   "source": [
    "R-squared is pretty low"
   ]
  },
  {
   "cell_type": "code",
   "execution_count": 4,
   "metadata": {},
   "outputs": [
    {
     "name": "stdout",
     "output_type": "stream",
     "text": [
      "1.011279098 [ 0.04756735]\n"
     ]
    }
   ],
   "source": [
    "X = df_raw[[\"Mercury_Retrograde_Degree_Colapsed\"]]\n",
    "y = df_raw[\"SP500_DeltaPercent_Combined\"]\n",
    "\n",
    "# Fit the linear model\n",
    "model = linear_model.LinearRegression()\n",
    "results = model.fit(X, y)\n",
    "\n",
    "# Print the coefficients\n",
    "print results.intercept_, results.coef_"
   ]
  },
  {
   "cell_type": "code",
   "execution_count": 9,
   "metadata": {},
   "outputs": [
    {
     "name": "stdout",
     "output_type": "stream",
     "text": [
      "                                 OLS Regression Results                                \n",
      "=======================================================================================\n",
      "Dep. Variable:     SP500_DeltaPercent_Combined   R-squared:                       0.297\n",
      "Model:                                     OLS   Adj. R-squared:                  0.297\n",
      "Method:                          Least Squares   F-statistic:                     1036.\n",
      "Date:                         Wed, 31 Jan 2018   Prob (F-statistic):          6.68e-190\n",
      "Time:                                 22:37:50   Log-Likelihood:                -3635.7\n",
      "No. Observations:                         2452   AIC:                             7273.\n",
      "Df Residuals:                             2451   BIC:                             7279.\n",
      "Df Model:                                    1                                         \n",
      "Covariance Type:                     nonrobust                                         \n",
      "======================================================================================================\n",
      "                                         coef    std err          t      P>|t|      [0.025      0.975]\n",
      "------------------------------------------------------------------------------------------------------\n",
      "Mercury_Retrograde_Degree_Colapsed     0.3249      0.010     32.188      0.000       0.305       0.345\n",
      "==============================================================================\n",
      "Omnibus:                      373.568   Durbin-Watson:                   0.231\n",
      "Prob(Omnibus):                  0.000   Jarque-Bera (JB):             1376.912\n",
      "Skew:                           0.724   Prob(JB):                    1.02e-299\n",
      "Kurtosis:                       6.374   Cond. No.                         1.00\n",
      "==============================================================================\n",
      "\n",
      "Warnings:\n",
      "[1] Standard Errors assume that the covariance matrix of the errors is correctly specified.\n"
     ]
    }
   ],
   "source": [
    "model = sm.OLS(y, X)\n",
    "results = model.fit()\n",
    "print(results.summary())"
   ]
  },
  {
   "cell_type": "markdown",
   "metadata": {},
   "source": [
    "With these two variables, R-squared is a little better, but still pretty low"
   ]
  },
  {
   "cell_type": "code",
   "execution_count": 17,
   "metadata": {},
   "outputs": [
    {
     "name": "stdout",
     "output_type": "stream",
     "text": [
      "                                 OLS Regression Results                                \n",
      "=======================================================================================\n",
      "Dep. Variable:     SP500_DeltaPercent_Combined   R-squared:                       0.029\n",
      "Model:                                     OLS   Adj. R-squared:                  0.028\n",
      "Method:                          Least Squares   F-statistic:                     72.78\n",
      "Date:                         Wed, 31 Jan 2018   Prob (F-statistic):           2.50e-17\n",
      "Time:                                 23:35:43   Log-Likelihood:                -4032.1\n",
      "No. Observations:                         2452   AIC:                             8066.\n",
      "Df Residuals:                             2451   BIC:                             8072.\n",
      "Df Model:                                    1                                         \n",
      "Covariance Type:                     nonrobust                                         \n",
      "========================================================================================\n",
      "                           coef    std err          t      P>|t|      [0.025      0.975]\n",
      "----------------------------------------------------------------------------------------\n",
      "FedReserveConference     0.8298      0.097      8.531      0.000       0.639       1.020\n",
      "==============================================================================\n",
      "Omnibus:                     1286.194   Durbin-Watson:                   0.198\n",
      "Prob(Omnibus):                  0.000   Jarque-Bera (JB):            12876.240\n",
      "Skew:                           2.275   Prob(JB):                         0.00\n",
      "Kurtosis:                      13.263   Cond. No.                         1.00\n",
      "==============================================================================\n",
      "\n",
      "Warnings:\n",
      "[1] Standard Errors assume that the covariance matrix of the errors is correctly specified.\n"
     ]
    }
   ],
   "source": [
    "X = df_raw[\"FedReserveConference\"]\n",
    "y = df_raw[\"SP500_DeltaPercent_Combined\"]\n",
    "\n",
    "model = sm.OLS(y, X)\n",
    "results = model.fit()\n",
    "print(results.summary())"
   ]
  },
  {
   "cell_type": "code",
   "execution_count": 24,
   "metadata": {},
   "outputs": [
    {
     "name": "stdout",
     "output_type": "stream",
     "text": [
      "                                OLS Regression Results                               \n",
      "=====================================================================================\n",
      "Dep. Variable:     VIX_DeltaPErcent_Combined   R-squared:                       0.027\n",
      "Model:                                   OLS   Adj. R-squared:                  0.026\n",
      "Method:                        Least Squares   F-statistic:                     67.21\n",
      "Date:                       Wed, 31 Jan 2018   Prob (F-statistic):           3.89e-16\n",
      "Time:                               23:54:47   Log-Likelihood:                -10078.\n",
      "No. Observations:                       2452   AIC:                         2.016e+04\n",
      "Df Residuals:                           2451   BIC:                         2.016e+04\n",
      "Df Model:                                  1                                         \n",
      "Covariance Type:                   nonrobust                                         \n",
      "========================================================================================\n",
      "                           coef    std err          t      P>|t|      [0.025      0.975]\n",
      "----------------------------------------------------------------------------------------\n",
      "FedReserveConference     9.3876      1.145      8.198      0.000       7.142      11.633\n",
      "==============================================================================\n",
      "Omnibus:                     1543.016   Durbin-Watson:                   0.219\n",
      "Prob(Omnibus):                  0.000   Jarque-Bera (JB):            28369.588\n",
      "Skew:                           2.657   Prob(JB):                         0.00\n",
      "Kurtosis:                      18.793   Cond. No.                         1.00\n",
      "==============================================================================\n",
      "\n",
      "Warnings:\n",
      "[1] Standard Errors assume that the covariance matrix of the errors is correctly specified.\n"
     ]
    }
   ],
   "source": [
    "X = df_raw[\"FedReserveConference\"]\n",
    "y = df_raw[\"VIX_DeltaPErcent_Combined\"]\n",
    "\n",
    "model = sm.OLS(y, X)\n",
    "results = model.fit()\n",
    "print(results.summary())"
   ]
  },
  {
   "cell_type": "markdown",
   "metadata": {},
   "source": [
    "R-squared is even worse for the control variable for both dependent variables"
   ]
  },
  {
   "cell_type": "markdown",
   "metadata": {},
   "source": [
    "Log-transforming the data led to worse results, using quadrtatic fit made no difference.\n",
    "\n",
    "Conclusion: the relationship between Mercury Retrograde categories and SP500 and VIX delta percentage variables is not linear, but it is closer to linear than the relationship between Federal Reserve Conference variable and SP500 and VIX delta percentage variables. "
   ]
  },
  {
   "cell_type": "markdown",
   "metadata": {},
   "source": [
    "Trying KNN. Out of ciruosity, flipping the sides to see if the model can predict Mercury Retrograde category based on S&P 500 variables. Using K=120 because retrograde happens 3-4 times a year.  "
   ]
  },
  {
   "cell_type": "code",
   "execution_count": 68,
   "metadata": {},
   "outputs": [
    {
     "data": {
      "text/plain": [
       "KNeighborsClassifier(algorithm='auto', leaf_size=30, metric='minkowski',\n",
       "           metric_params=None, n_jobs=1, n_neighbors=30, p=2,\n",
       "           weights='uniform')"
      ]
     },
     "execution_count": 68,
     "metadata": {},
     "output_type": "execute_result"
    }
   ],
   "source": [
    "from sklearn.neighbors import KNeighborsClassifier\n",
    "\n",
    "features = ['SP500_Open', 'SP500_High', 'SP500_Open', 'SP500_Close']\n",
    "model_sp = KNeighborsClassifier(n_neighbors=120)  \n",
    "X = df_raw[features]  \n",
    "y = df_raw.Mercury_Retrograde_Degree_Granular\n",
    "model_frc.fit(X, y)"
   ]
  },
  {
   "cell_type": "code",
   "execution_count": 69,
   "metadata": {},
   "outputs": [
    {
     "data": {
      "text/plain": [
       "0.55750407830342574"
      ]
     },
     "execution_count": 69,
     "metadata": {},
     "output_type": "execute_result"
    }
   ],
   "source": [
    "model_frc.score(X, y)"
   ]
  },
  {
   "cell_type": "markdown",
   "metadata": {},
   "source": [
    "Doing the same for the Federal Reserve Conference variable. Using K=30 because the conference happens about once a month"
   ]
  },
  {
   "cell_type": "code",
   "execution_count": 70,
   "metadata": {},
   "outputs": [
    {
     "data": {
      "text/plain": [
       "KNeighborsClassifier(algorithm='auto', leaf_size=30, metric='minkowski',\n",
       "           metric_params=None, n_jobs=1, n_neighbors=30, p=2,\n",
       "           weights='uniform')"
      ]
     },
     "execution_count": 70,
     "metadata": {},
     "output_type": "execute_result"
    }
   ],
   "source": [
    "features = ['SP500_Open', 'SP500_High', 'SP500_Open', 'SP500_Close']\n",
    "model_frc_sp = KNeighborsClassifier(n_neighbors=30)  \n",
    "X = df_raw[features]  \n",
    "y = df_raw.FedReserveConference\n",
    "model_frc_sp.fit(X, y)"
   ]
  },
  {
   "cell_type": "code",
   "execution_count": 71,
   "metadata": {},
   "outputs": [
    {
     "data": {
      "text/plain": [
       "0.97716150081566067"
      ]
     },
     "execution_count": 71,
     "metadata": {},
     "output_type": "execute_result"
    }
   ],
   "source": [
    "model_frc_sp.score(X, y)"
   ]
  },
  {
   "cell_type": "markdown",
   "metadata": {},
   "source": [
    "Much better prediction accuracy, however, it may be due to the fact that 95 percent of the observations have the same value while only 50 percent of Mercury Retrograde variables have the same value.\n",
    "\n",
    "Trying Mercury_Retrograde_Degree_Colapsed variable"
   ]
  },
  {
   "cell_type": "code",
   "execution_count": 72,
   "metadata": {},
   "outputs": [
    {
     "data": {
      "text/plain": [
       "KNeighborsClassifier(algorithm='auto', leaf_size=30, metric='minkowski',\n",
       "           metric_params=None, n_jobs=1, n_neighbors=120, p=2,\n",
       "           weights='uniform')"
      ]
     },
     "execution_count": 72,
     "metadata": {},
     "output_type": "execute_result"
    }
   ],
   "source": [
    "features = ['SP500_Open', 'SP500_High', 'SP500_Open', 'SP500_Close']\n",
    "model_sp_col = KNeighborsClassifier(n_neighbors=120)  \n",
    "X = df_raw[features]  \n",
    "y = df_raw.Mercury_Retrograde_Degree_Colapsed\n",
    "model_sp_col.fit(X, y)"
   ]
  },
  {
   "cell_type": "code",
   "execution_count": 73,
   "metadata": {},
   "outputs": [
    {
     "data": {
      "text/plain": [
       "0.51427406199021208"
      ]
     },
     "execution_count": 73,
     "metadata": {},
     "output_type": "execute_result"
    }
   ],
   "source": [
    "model_sp_col.score(X, y)"
   ]
  },
  {
   "cell_type": "markdown",
   "metadata": {},
   "source": [
    "The accuracy is lower than with Mercury_Retrograde_Degree_Granular variable. It may be an indicator that market performs differently during Reverse and Direct versions of the category (Preshadow vs. Postshadow, Reverse Station vs. Direct Station)."
   ]
  },
  {
   "cell_type": "code",
   "execution_count": null,
   "metadata": {
    "collapsed": true
   },
   "outputs": [],
   "source": [
    "Trying logistic regression."
   ]
  },
  {
   "cell_type": "code",
   "execution_count": 80,
   "metadata": {},
   "outputs": [
    {
     "data": {
      "text/plain": [
       "0.50905255489252821"
      ]
     },
     "execution_count": 80,
     "metadata": {},
     "output_type": "execute_result"
    }
   ],
   "source": [
    "features = ['VIX_Open', 'VIX_High', 'VIX_Open', 'VIX_Close']\n",
    "model = LogisticRegression()\n",
    "X, y = df_raw[features], df_raw.Mercury_Retrograde_Degree_Granular\n",
    "cross_val_score(model, X, y, cv=10).mean()"
   ]
  },
  {
   "cell_type": "code",
   "execution_count": 79,
   "metadata": {},
   "outputs": [
    {
     "name": "stderr",
     "output_type": "stream",
     "text": [
      "/Users/albinamorozova/anaconda2/lib/python2.7/site-packages/sklearn/cross_validation.py:553: Warning: The least populated class in y has only 4 members, which is too few. The minimum number of labels for any class cannot be less than n_folds=10.\n",
      "  % (min_labels, self.n_folds)), Warning)\n"
     ]
    },
    {
     "data": {
      "text/plain": [
       "0.97679003405718579"
      ]
     },
     "execution_count": 79,
     "metadata": {},
     "output_type": "execute_result"
    }
   ],
   "source": [
    "features = ['VIX_Open', 'VIX_High', 'VIX_Open', 'VIX_Close']\n",
    "model_fd = LogisticRegression()\n",
    "X, y = df_raw[features], df_raw.FedReserveConference\n",
    "cross_val_score(model_fd, X, y, cv=10).mean()"
   ]
  },
  {
   "cell_type": "markdown",
   "metadata": {},
   "source": [
    "The accuracy is slightly lower than with KNN for both variables. Again, FedReserveConference is more likely to be predicted correctly due to 95 percent of observations having the same value."
   ]
  },
  {
   "cell_type": "markdown",
   "metadata": {},
   "source": [
    "Conclusion: Unfortunately, these are the only modeles I had to time try. More features for Mercury Retrograde (Zodiak sign where the retrograde occurs, for example) would allow for better model performance. However, this would require much more data in order to show patterns, because it takes years to repeat the same astrological combination and I only had calendar from 2011. I did not have time to include other economic news releases (Jobless Claims, Employment Situation etc.), that are considred important market indicators in order to have more crediblity for the performance of the control variable.\n",
    "The only conclusion at this point is that there is some correlation between Mercury Retrograde and SP500 volatility but more data and time are needed to provide more defined results."
   ]
  }
 ],
 "metadata": {
  "kernelspec": {
   "display_name": "Python 2",
   "language": "python",
   "name": "python2"
  },
  "language_info": {
   "codemirror_mode": {
    "name": "ipython",
    "version": 2
   },
   "file_extension": ".py",
   "mimetype": "text/x-python",
   "name": "python",
   "nbconvert_exporter": "python",
   "pygments_lexer": "ipython2",
   "version": "2.7.14"
  }
 },
 "nbformat": 4,
 "nbformat_minor": 2
}
