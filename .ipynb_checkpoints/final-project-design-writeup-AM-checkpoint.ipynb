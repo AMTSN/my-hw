{
 "cells": [
  {
   "cell_type": "markdown",
   "metadata": {},
   "source": [
    "# Final Project Design Writeup"
   ]
  },
  {
   "cell_type": "markdown",
   "metadata": {},
   "source": [
    "### Project Problem and Hypothesis"
   ]
  },
  {
   "cell_type": "markdown",
   "metadata": {},
   "source": [
    "This project will explore possible effects of Mercury retrograde cycles on S&P 500 volatility. \n",
    "\n",
    "Mercury retrograde is an illusion of the planet moving east to west, when viewed from Earth, due to Mercury's orbit being about 4 times shorter than the Earth orbit. This occurs for about 3 weeks, 3-4 times a year. \n",
    "Astrologers put great importance on planets' retrograde cycles as they perceive that the area of human life \"governed\" by that planet will experience reversals and setbacks. Given that Mercury is concidered to rule business, technology and communications, its retrograde periods are expected to create chaos in these areas. Since Mercury is closest to the Sun, its retrograde periods are the most frequent among the Solar system planets and are the most talked about retrogrades.\n",
    "\n",
    "Given the assumed negative effect of Mercury retrograde on markets, many investors stay away during these periods. There are financial astrologers who analyse stock price movements and, based on them, propose investing strategies for future Mercury retrograde periods.\n",
    "\n",
    "Mercury retrograde cycles are considred to have 5 milestones: \n",
    "   a) the pre-retrograde shadow, when the speed of Mercury's movement across the sky appears to slow down, usually lasts about 10 days\n",
    "   b) the retrograde station, when Mercury appears not to move at all, right before the illusion of backwards movement begins, usually lasts about 2-3 days\n",
    "   c) the retrograde period, when Mercury is apparently moving east to west Mercury appears not to move at all, right before the illusion of backwards moving begins, usually lasts 3 weeks\n",
    "   d) the direct station, when Mercury appears not to move at all, right before the illusion of forward movement begins, usually lasts about 2-3 days\n",
    "   e) the post-retrograde shadow, when the speed of Mercury's movement acroos the sky appears to increase and the planet reaches to point from which pre-retrograde shado started, usually lasts about 10 days\n",
    "   \n",
    "According to financial astrologers, both retrograde and direct stations are characterised by high market volatility while the actual retrograde period usually results in the market correction.\n",
    "\n",
    "This project will attempt to confirm this hypothesis by analysing changes in S&P 500 values during various cycles of Mercury retrograde."
   ]
  },
  {
   "cell_type": "markdown",
   "metadata": {},
   "source": [
    "### Datasets"
   ]
  },
  {
   "cell_type": "markdown",
   "metadata": {},
   "source": [
    "We will use two datasets for this project.\n",
    "\n",
    "a) S&P 500 daily price data since 1/1/1950 (see the data dictionary below)\n",
    "\n",
    " Variable  | Description                                                                                 |Type \n",
    "-----------|---------------------------------------------------------------------------------------------|----------\n",
    " Date      |The date the S&P price measurements were taken                                               |Ccntinuous\n",
    " Open      |The price at market open                                                                     |Continuous\n",
    " High      |The highest price point during that date                                                     |Continuous\n",
    " Low       |The lowest price point during that date                                                      |Continuous\n",
    " Close     |The price at market close                                                                    |Continuous\n",
    " Adj. Close|The price at market close amended to include divident distributions/actions during that day  |Continuous\n",
    " Volume    |Number of shares traded on that date                                                         |Continuous\n",
    " \n",
    " b) Mercury Retrograde dates since 1/1/1901 until 11/1/2100 (see the data dictionary below)\n",
    " \n",
    " Variable  | Description                                                                                 |Type \n",
    "-----------|---------------------------------------------------------------------------------------------|----------\n",
    " Date      |The date Mercury station occurs                                                              |Ccntinuous\n",
    " GMT       |The time Mercury station occurs                                                              |Continuous\n",
    " Zodiac    |The Zodiac sector of the sky where Mercury station occurs                                    |Categorical\n",
    " Station   |The type of Mercury station (direct or regtrograde)                                          |Categorical"
   ]
  },
  {
   "cell_type": "markdown",
   "metadata": {},
   "source": [
    "## Domain knowledge"
   ]
  },
  {
   "cell_type": "markdown",
   "metadata": {
    "scrolled": false
   },
   "source": [
    "I have attempted to explore the existence of any correllation between S&P 500 volatility and Mercury retrograde cycles using data analysis with SQL Server tables. I was able to find dates where the absolute percentage of daily price changes was above the average. I could see that many of them were, in fact, during Mercury retrograde stations. However, due to SQL Server's lack of data visualisation and my lack of understanding of statistics preventing me from making any conclusion.\n",
    "\n",
    "While there are some publications that support/reject Mercury retrograde cycle's influence on market performace, I was not able to find any graphical/numerical representation of the findings. The ability to explore the problem through the data is the main reason I am drawn to it."
   ]
  },
  {
   "cell_type": "markdown",
   "metadata": {},
   "source": [
    "## Project Concerns"
   ]
  },
  {
   "cell_type": "markdown",
   "metadata": {},
   "source": [
    "This project looks like time series analysis, which has not been covered yet in our class. Therefore, I am not entirely certain on the approach.\n",
    "\n",
    "Here is my approach, based on what we have covered in the class so far:\n",
    "\n",
    "a) take the data from both datasets from 1/1/1990 until the last Mercury retrograde cycle.\n",
    "\n",
    "b) add two variables to S&P500 price dataset: 1) the absolute price change of the date's open price as compared to a previous date's close price and 2) the difference between the date's high and low price points.\n",
    "\n",
    "c) using the Mercury cycle dataset, add Mercury cycle category variable in S&P 500 price dataset, assigned as following: 1) dates within one day of retrograde station get value SR (retrograde station) 2) dates within one day of direct station get value SD (direct station) 3) dates within 10 days before 3-day retrograde station get value HR (retrograde shadow) 4) dates within 10 days after 3-day direct station get value HD (direct shadow) 5) dates between the two nearest 3-day station periods get value of R (retrograde) 6) all other dates get value NR (non-retrograde).\n",
    "\n",
    "d) above average values of daily price and/or high/low deltas can be concidred as indicators of market volatility; we can graph each of these variables for each of the values of the Mercury cycle categorical variable to see if a pattern exists; if the hypothesis is correct, lines that belong to Mercury cycle types SR and SD would mostly have the higher values than lines for the other 4 categories. While SR and SD periods are 3 days, all other periods are longer and I was wondering if it would be possible to rerpesent how far each day is from the start/end of its assigned period using a heat map.\n",
    "\n",
    "e) I can try changing the Mercury cycle categorical values the following way: NR = 1, HR and HD = 2, R = 3, SR and SD = 4 and do a regression analysis of each (or a sum of both) price delta variables against the newly categorised Mercury cycle variable.\n",
    "\n",
    "f) separate the data into 3 9-year old periods and do the analysis described above on each period separately\n",
    "\n",
    "This is a very simplistic representation of both market volatility and astrology. Market volatility can be affected by miriad of variables, from economic situations in any part of the world to any typs of news, though, an astrologer may argue that they should also reflect the chaos during Mercury retrograde. None of these factors are represented in the S&P 500 dataset. All Mercury retrogrde cycles are unique - they happen in different areas of the Zodiac and are influenced by various aspects from other planets. While the Mercury dataset indicates the Zodiac sector where it occurs, I have no knowledge to interprete it nor are there other planets' aspects in the Mercury cycle dataset. \n",
    "Assigning 10 days to each shadow period and 3 days to each station period are generalizations. I will research whether each station and shadow period can be calculated with more precision.\n",
    "\n",
    "I am assuming the risk of S&P 500 data being incorrect is very low. The Mercury cycle data has been generated by a computer program. The dates and times are GMT. Being that S&P 500 value points are taken in EST, it may be necessary to adjust Mercury cycle values to EST for a more accurate comparison."
   ]
  },
  {
   "cell_type": "markdown",
   "metadata": {},
   "source": [
    "## Outcomes"
   ]
  },
  {
   "cell_type": "markdown",
   "metadata": {},
   "source": [
    "Outside of the visual representation of potential dependency of different Mercury cycle categories on S&P 500 price deltas, I would expect to ba able to find out the relationship between these variables. If the relationship is proven, I should be able to test it during the future Mercury retrograde cycles (and the current one, depending on the timing of the project). I am expecting the effect of Mercury cycles on S&P 500 pricing to be short term. Therefore, if the project hypothesis is confirmed, it can only benefit small investors who trade S&P 500 otions with positions expiring weekly, because thr unexpected volatility in one short cycle may pose a threat to wipe out all of their capital.\n",
    "\n",
    "The proof of the negative hypothesis can also be considered a success for this project as it would attest to a view of Mercury influence on our lives being a myth. I personally think that the negative hypothesis has a higher chance to be proven that the actual hypothesis of this project.\n",
    "\n",
    "I do not expect data-related issues in this project, given a simple and precise structure of both datasets. If I will determine that this project is not worth pursuing, I would fall back on the figure skating competitions dataset with a goal of proving/disproving the national bias in the judges' marks. This is another project where the proof of a negative hypothesis can be considered a success by the International Skating Union that introduced a new judging system in 2003 in hopes of improving the objectivness of the marks."
   ]
  }
 ],
 "metadata": {
  "kernelspec": {
   "display_name": "Python 3",
   "language": "python",
   "name": "python3"
  },
  "language_info": {
   "codemirror_mode": {
    "name": "ipython",
    "version": 3
   },
   "file_extension": ".py",
   "mimetype": "text/x-python",
   "name": "python",
   "nbconvert_exporter": "python",
   "pygments_lexer": "ipython3",
   "version": "3.6.3"
  }
 },
 "nbformat": 4,
 "nbformat_minor": 1
}
